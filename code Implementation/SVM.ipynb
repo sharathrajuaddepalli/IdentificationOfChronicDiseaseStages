{
 "cells": [
  {
   "cell_type": "code",
   "execution_count": null,
   "metadata": {
    "id": "ssTz7oGrWd7h"
   },
   "outputs": [],
   "source": [
    "#Untitled6\n",
    "# Linear Algebra\n",
    "import numpy as np\n",
    "\n",
    "# Data Processing\n",
    "import pandas as pd\n",
    "\n",
    "# Data visualization\n",
    "import matplotlib.pyplot as plt\n",
    "%matplotlib inline\n",
    "import seaborn as sns\n",
    "import warnings\n",
    "warnings.filterwarnings('ignore')\n",
    "# Algorithm \n",
    "\n",
    "from sklearn.svm import SVC, LinearSVC"
   ]
  },
  {
   "cell_type": "code",
   "execution_count": null,
   "metadata": {
    "colab": {
     "base_uri": "https://localhost:8080/",
     "height": 73,
     "resources": {
      "http://localhost:8080/nbextensions/google.colab/files.js": {
       "data": "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",
       "headers": [
        [
         "content-type",
         "application/javascript"
        ]
       ],
       "ok": true,
       "status": 200,
       "status_text": ""
      }
     }
    },
    "id": "9fDs26LqWg6w",
    "outputId": "5106d8df-9cdc-440e-b0c1-d69808500ca9"
   },
   "outputs": [
    {
     "data": {
      "text/html": [
       "\n",
       "     <input type=\"file\" id=\"files-a73c930a-4050-490b-976f-afb537941a53\" name=\"files[]\" multiple disabled\n",
       "        style=\"border:none\" />\n",
       "     <output id=\"result-a73c930a-4050-490b-976f-afb537941a53\">\n",
       "      Upload widget is only available when the cell has been executed in the\n",
       "      current browser session. Please rerun this cell to enable.\n",
       "      </output>\n",
       "      <script src=\"/nbextensions/google.colab/files.js\"></script> "
      ],
      "text/plain": [
       "<IPython.core.display.HTML object>"
      ]
     },
     "metadata": {
      "tags": []
     },
     "output_type": "display_data"
    },
    {
     "name": "stdout",
     "output_type": "stream",
     "text": [
      "Saving UpdatedDataSet.csv to UpdatedDataSet.csv\n"
     ]
    }
   ],
   "source": [
    "#INPUT DATA\n",
    "# Getting the data\n",
    "from google.colab import files\n",
    "uploaded = files.upload()"
   ]
  },
  {
   "cell_type": "code",
   "execution_count": null,
   "metadata": {
    "id": "FMY6EIWDXEI1"
   },
   "outputs": [],
   "source": []
  },
  {
   "cell_type": "code",
   "execution_count": null,
   "metadata": {
    "colab": {
     "base_uri": "https://localhost:8080/",
     "height": 151
    },
    "id": "fS3owe-1YH1o",
    "outputId": "5abcccdb-f2ac-4545-c6cd-c0da949b0433"
   },
   "outputs": [
    {
     "name": "stdout",
     "output_type": "stream",
     "text": [
      "   Unnamed: 0  id  age    bp  ...  ane  classification        eGFR stages\n",
      "0           0   0   48  80.0  ...   no             ckd   62.001841      2\n",
      "1           1   1    7  50.0  ...   no             ckd  146.335929      1\n",
      "2           2   2   62  80.0  ...  yes             ckd   36.866485      3\n",
      "3           3   3   48  70.0  ...  yes             ckd   16.394927      4\n",
      "4           4   4   51  80.0  ...   no             ckd   51.262906      3\n",
      "\n",
      "[5 rows x 29 columns]\n"
     ]
    }
   ],
   "source": [
    "import io\n",
    "kidney_data = pd.read_csv(io.BytesIO(uploaded['UpdatedDataSet.csv']))\n",
    "print(kidney_data.head())"
   ]
  },
  {
   "cell_type": "code",
   "execution_count": null,
   "metadata": {
    "colab": {
     "base_uri": "https://localhost:8080/",
     "height": 84
    },
    "id": "FSJOhFlmYiGA",
    "outputId": "17b6a6ff-47bb-4cbc-aa84-1f1bc27bfb83"
   },
   "outputs": [
    {
     "data": {
      "text/plain": [
       "Index(['Unnamed: 0', 'id', 'age', 'bp', 'sg', 'al', 'su', 'rbc', 'pc', 'pcc',\n",
       "       'ba', 'bgr', 'bu', 'sc', 'sod', 'pot', 'hemo', 'pcv', 'wc', 'rc', 'htn',\n",
       "       'dm', 'cad', 'appet', 'pe', 'ane', 'classification', 'eGFR', 'stages'],\n",
       "      dtype='object')"
      ]
     },
     "execution_count": 12,
     "metadata": {
      "tags": []
     },
     "output_type": "execute_result"
    }
   ],
   "source": [
    "kidney_data.columns"
   ]
  },
  {
   "cell_type": "code",
   "execution_count": null,
   "metadata": {
    "id": "sZG8GARsYxww"
   },
   "outputs": [],
   "source": [
    "kidney_data.drop(['id','classification','eGFR'],axis=1,inplace=True)"
   ]
  },
  {
   "cell_type": "code",
   "execution_count": null,
   "metadata": {
    "colab": {
     "base_uri": "https://localhost:8080/",
     "height": 84
    },
    "id": "6t-8XjYjY4M1",
    "outputId": "d8ed0f2e-f332-4b47-f561-87bd21b26325"
   },
   "outputs": [
    {
     "data": {
      "text/plain": [
       "Index(['Unnamed: 0', 'age', 'bp', 'sg', 'al', 'su', 'rbc', 'pc', 'pcc', 'ba',\n",
       "       'bgr', 'bu', 'sc', 'sod', 'pot', 'hemo', 'pcv', 'wc', 'rc', 'htn', 'dm',\n",
       "       'cad', 'appet', 'pe', 'ane', 'stages'],\n",
       "      dtype='object')"
      ]
     },
     "execution_count": 5,
     "metadata": {
      "tags": []
     },
     "output_type": "execute_result"
    }
   ],
   "source": [
    "kidney_data.columns"
   ]
  },
  {
   "cell_type": "code",
   "execution_count": null,
   "metadata": {
    "id": "fIRLHhMDY7nw"
   },
   "outputs": [],
   "source": [
    "# Understanding the Attributes"
   ]
  },
  {
   "cell_type": "code",
   "execution_count": null,
   "metadata": {
    "colab": {
     "base_uri": "https://localhost:8080/",
     "height": 120
    },
    "id": "CAPTuVYqZApQ",
    "outputId": "eef6af24-a192-45eb-cc6d-4355ff1e248e"
   },
   "outputs": [
    {
     "data": {
      "application/vnd.google.colaboratory.intrinsic+json": {
       "type": "string"
      },
      "text/plain": [
       "'Understanding the Attributes\\nage - age of patient\\nbp - blood pressure level of patient\\nsg - Specific gravity is the ratio of the density of the substance to the density of a reference substance.\\nal - Albumin ( It is a type of protein the liver makes. It\\'s one of the most abundant proteins in the blood. We need a proper balance of albumin to keep fluid from leaking out of blood vessels.)\\nsu - Sugar level in the blood\\nrbc - It refers to Red blood cells in the blood.\\npc - Pus is the result of the body\\'s natural immune system automatically responding to an infection, usually caused by bacteria or fungi.\\npcc - Pyuria is a condition that occurs when excess white blood cells, or pus, are present in the urine.Parasites, kidney stones, tumors and cysts, and interstitial cystitis can also lead to pyuria.\\nba - Bacteria\\nbgr - The reference values for a \"normal\" random glucose test in an average adult are 79–140mg/dl (4.4–7.8 mmol/l), between 140-200mg/dl (7.8–11.1 mmol/l) is considered pre-diabetes, and ≥ 200 mg/dl is considered diabetes according to ADA guidelines\\nbu - Nitrogen in the blood that comes from urea (a substance formed by the breakdown of protein in the liver). The kidneys filter urea out of the blood and into the urine. A high level of urea nitrogen in the blood may be a sign of a kidney problem.\\nsc - Serum Creatinine ( Creatinine is a breakdown product of creatinine phosphate in muscle, and is usually produced ata)\\nsod - Sodium (sod in mEq/L)\\npot - Potassium (pot in mEq/L)\\nhemo - Hemoglobin (hemo in gms)\\npcv - Packed Cell Volume\\nwc - White Blood Cell Count (wc in cells/cumm)\\nrc - Red Blood Cell Count(rc in millions/cumm)\\nhtn - Hypertension (It is also known as high blood pressure(HBP) is a long-term medical condition in which the blood pressure in the arteries is persistently elevated.)\\ndm - Diabetes Mellitus(A disease in which the body’s ability to produce or respond to the hormone insulin is impaired, resulting in abnormal metabolism of carbohydrates and elevated levels of glucose in the blood.)\\ncad - Coronary Artery Disease (It happens when the arteries that supply blood to heart muscle become hardened and narrowed.)\\nappet - Appetite (A natural desire to satisfy a bodily need, especially for food)\\npe - Pedal Edema( It is the accumulation of fluid in the feet and lower legs. )\\nane - Anemia (A condition in which there is a deficiency of red cells or of haemoglobin in the blood, resulting in pallor and weariness.)\\nclassification- It classifies whether a person is suffering from chronic kidney disease or not.\\n\\n'"
      ]
     },
     "execution_count": 7,
     "metadata": {
      "tags": []
     },
     "output_type": "execute_result"
    }
   ],
   "source": [
    "'''Understanding the Attributes\n",
    "age - age of patient\n",
    "bp - blood pressure level of patient\n",
    "sg - Specific gravity is the ratio of the density of the substance to the density of a reference substance.\n",
    "al - Albumin ( It is a type of protein the liver makes. It's one of the most abundant proteins in the blood. We need a proper balance of albumin to keep fluid from leaking out of blood vessels.)\n",
    "su - Sugar level in the blood\n",
    "rbc - It refers to Red blood cells in the blood.\n",
    "pc - Pus is the result of the body's natural immune system automatically responding to an infection, usually caused by bacteria or fungi.\n",
    "pcc - Pyuria is a condition that occurs when excess white blood cells, or pus, are present in the urine.Parasites, kidney stones, tumors and cysts, and interstitial cystitis can also lead to pyuria.\n",
    "ba - Bacteria\n",
    "bgr - The reference values for a \"normal\" random glucose test in an average adult are 79–140mg/dl (4.4–7.8 mmol/l), between 140-200mg/dl (7.8–11.1 mmol/l) is considered pre-diabetes, and ≥ 200 mg/dl is considered diabetes according to ADA guidelines\n",
    "bu - Nitrogen in the blood that comes from urea (a substance formed by the breakdown of protein in the liver). The kidneys filter urea out of the blood and into the urine. A high level of urea nitrogen in the blood may be a sign of a kidney problem.\n",
    "sc - Serum Creatinine ( Creatinine is a breakdown product of creatinine phosphate in muscle, and is usually produced ata)\n",
    "sod - Sodium (sod in mEq/L)\n",
    "pot - Potassium (pot in mEq/L)\n",
    "hemo - Hemoglobin (hemo in gms)\n",
    "pcv - Packed Cell Volume\n",
    "wc - White Blood Cell Count (wc in cells/cumm)\n",
    "rc - Red Blood Cell Count(rc in millions/cumm)\n",
    "htn - Hypertension (It is also known as high blood pressure(HBP) is a long-term medical condition in which the blood pressure in the arteries is persistently elevated.)\n",
    "dm - Diabetes Mellitus(A disease in which the body’s ability to produce or respond to the hormone insulin is impaired, resulting in abnormal metabolism of carbohydrates and elevated levels of glucose in the blood.)\n",
    "cad - Coronary Artery Disease (It happens when the arteries that supply blood to heart muscle become hardened and narrowed.)\n",
    "appet - Appetite (A natural desire to satisfy a bodily need, especially for food)\n",
    "pe - Pedal Edema( It is the accumulation of fluid in the feet and lower legs. )\n",
    "ane - Anemia (A condition in which there is a deficiency of red cells or of haemoglobin in the blood, resulting in pallor and weariness.)\n",
    "classification- It classifies whether a person is suffering from chronic kidney disease or not.\n",
    "\n",
    "'''"
   ]
  },
  {
   "cell_type": "code",
   "execution_count": null,
   "metadata": {
    "colab": {
     "base_uri": "https://localhost:8080/",
     "height": 571
    },
    "id": "OERLKx-HZ1Mg",
    "outputId": "39209025-1135-4c75-e829-5e6e38596669"
   },
   "outputs": [
    {
     "name": "stdout",
     "output_type": "stream",
     "text": [
      "<class 'pandas.core.frame.DataFrame'>\n",
      "RangeIndex: 400 entries, 0 to 399\n",
      "Data columns (total 26 columns):\n",
      " #   Column      Non-Null Count  Dtype  \n",
      "---  ------      --------------  -----  \n",
      " 0   Unnamed: 0  400 non-null    int64  \n",
      " 1   age         400 non-null    int64  \n",
      " 2   bp          388 non-null    float64\n",
      " 3   sg          353 non-null    float64\n",
      " 4   al          354 non-null    float64\n",
      " 5   su          351 non-null    float64\n",
      " 6   rbc         248 non-null    object \n",
      " 7   pc          335 non-null    object \n",
      " 8   pcc         396 non-null    object \n",
      " 9   ba          396 non-null    object \n",
      " 10  bgr         356 non-null    float64\n",
      " 11  bu          381 non-null    float64\n",
      " 12  sc          400 non-null    float64\n",
      " 13  sod         313 non-null    float64\n",
      " 14  pot         312 non-null    float64\n",
      " 15  hemo        348 non-null    float64\n",
      " 16  pcv         330 non-null    object \n",
      " 17  wc          295 non-null    object \n",
      " 18  rc          270 non-null    object \n",
      " 19  htn         398 non-null    object \n",
      " 20  dm          398 non-null    object \n",
      " 21  cad         398 non-null    object \n",
      " 22  appet       399 non-null    object \n",
      " 23  pe          399 non-null    object \n",
      " 24  ane         399 non-null    object \n",
      " 25  stages      400 non-null    int64  \n",
      "dtypes: float64(10), int64(3), object(13)\n",
      "memory usage: 81.4+ KB\n"
     ]
    }
   ],
   "source": [
    "#Data Types of the data\n",
    "\n",
    "kidney_data.info()"
   ]
  },
  {
   "cell_type": "code",
   "execution_count": null,
   "metadata": {
    "id": "KqUfrK13Z-Xx"
   },
   "outputs": [],
   "source": [
    "# Categorical and Numerical Variables\n",
    "# Categorical variable : rbc, pc, pcc, ba, pcv, wc, rc, htn, dm, cad, appet, pe, ane and classification\n",
    "# Numerical variable : age, bp , sg, al, su, bgr, bu, sc, sod, pot and hemo."
   ]
  },
  {
   "cell_type": "code",
   "execution_count": null,
   "metadata": {
    "colab": {
     "base_uri": "https://localhost:8080/",
     "height": 284
    },
    "id": "qRkxkyZegJIr",
    "outputId": "79dddf9b-92ac-4803-b37f-ff346cf29fc7"
   },
   "outputs": [
    {
     "data": {
      "text/html": [
       "<div>\n",
       "<style scoped>\n",
       "    .dataframe tbody tr th:only-of-type {\n",
       "        vertical-align: middle;\n",
       "    }\n",
       "\n",
       "    .dataframe tbody tr th {\n",
       "        vertical-align: top;\n",
       "    }\n",
       "\n",
       "    .dataframe thead th {\n",
       "        text-align: right;\n",
       "    }\n",
       "</style>\n",
       "<table border=\"1\" class=\"dataframe\">\n",
       "  <thead>\n",
       "    <tr style=\"text-align: right;\">\n",
       "      <th></th>\n",
       "      <th>Unnamed: 0</th>\n",
       "      <th>age</th>\n",
       "      <th>bp</th>\n",
       "      <th>sg</th>\n",
       "      <th>al</th>\n",
       "      <th>su</th>\n",
       "      <th>bgr</th>\n",
       "      <th>bu</th>\n",
       "      <th>sc</th>\n",
       "      <th>sod</th>\n",
       "      <th>pot</th>\n",
       "      <th>hemo</th>\n",
       "      <th>stages</th>\n",
       "    </tr>\n",
       "  </thead>\n",
       "  <tbody>\n",
       "    <tr>\n",
       "      <th>count</th>\n",
       "      <td>400.000000</td>\n",
       "      <td>400.000000</td>\n",
       "      <td>388.000000</td>\n",
       "      <td>353.000000</td>\n",
       "      <td>354.000000</td>\n",
       "      <td>351.000000</td>\n",
       "      <td>356.000000</td>\n",
       "      <td>381.000000</td>\n",
       "      <td>400.000000</td>\n",
       "      <td>313.000000</td>\n",
       "      <td>312.000000</td>\n",
       "      <td>348.000000</td>\n",
       "      <td>400.000000</td>\n",
       "    </tr>\n",
       "    <tr>\n",
       "      <th>mean</th>\n",
       "      <td>199.500000</td>\n",
       "      <td>51.562500</td>\n",
       "      <td>76.469072</td>\n",
       "      <td>1.017408</td>\n",
       "      <td>1.016949</td>\n",
       "      <td>0.450142</td>\n",
       "      <td>148.036517</td>\n",
       "      <td>57.425722</td>\n",
       "      <td>2.997125</td>\n",
       "      <td>137.528754</td>\n",
       "      <td>4.627244</td>\n",
       "      <td>12.526437</td>\n",
       "      <td>2.777500</td>\n",
       "    </tr>\n",
       "    <tr>\n",
       "      <th>std</th>\n",
       "      <td>115.614301</td>\n",
       "      <td>16.982996</td>\n",
       "      <td>13.683637</td>\n",
       "      <td>0.005717</td>\n",
       "      <td>1.352679</td>\n",
       "      <td>1.099191</td>\n",
       "      <td>79.281714</td>\n",
       "      <td>50.503006</td>\n",
       "      <td>5.628886</td>\n",
       "      <td>10.408752</td>\n",
       "      <td>3.193904</td>\n",
       "      <td>2.912587</td>\n",
       "      <td>1.386651</td>\n",
       "    </tr>\n",
       "    <tr>\n",
       "      <th>min</th>\n",
       "      <td>0.000000</td>\n",
       "      <td>2.000000</td>\n",
       "      <td>50.000000</td>\n",
       "      <td>1.005000</td>\n",
       "      <td>0.000000</td>\n",
       "      <td>0.000000</td>\n",
       "      <td>22.000000</td>\n",
       "      <td>1.500000</td>\n",
       "      <td>0.400000</td>\n",
       "      <td>4.500000</td>\n",
       "      <td>2.500000</td>\n",
       "      <td>3.100000</td>\n",
       "      <td>1.000000</td>\n",
       "    </tr>\n",
       "    <tr>\n",
       "      <th>25%</th>\n",
       "      <td>99.750000</td>\n",
       "      <td>42.000000</td>\n",
       "      <td>70.000000</td>\n",
       "      <td>1.010000</td>\n",
       "      <td>0.000000</td>\n",
       "      <td>0.000000</td>\n",
       "      <td>99.000000</td>\n",
       "      <td>27.000000</td>\n",
       "      <td>0.900000</td>\n",
       "      <td>135.000000</td>\n",
       "      <td>3.800000</td>\n",
       "      <td>10.300000</td>\n",
       "      <td>2.000000</td>\n",
       "    </tr>\n",
       "    <tr>\n",
       "      <th>50%</th>\n",
       "      <td>199.500000</td>\n",
       "      <td>55.000000</td>\n",
       "      <td>80.000000</td>\n",
       "      <td>1.020000</td>\n",
       "      <td>0.000000</td>\n",
       "      <td>0.000000</td>\n",
       "      <td>121.000000</td>\n",
       "      <td>42.000000</td>\n",
       "      <td>1.300000</td>\n",
       "      <td>138.000000</td>\n",
       "      <td>4.400000</td>\n",
       "      <td>12.650000</td>\n",
       "      <td>3.000000</td>\n",
       "    </tr>\n",
       "    <tr>\n",
       "      <th>75%</th>\n",
       "      <td>299.250000</td>\n",
       "      <td>64.000000</td>\n",
       "      <td>80.000000</td>\n",
       "      <td>1.020000</td>\n",
       "      <td>2.000000</td>\n",
       "      <td>0.000000</td>\n",
       "      <td>163.000000</td>\n",
       "      <td>66.000000</td>\n",
       "      <td>2.725000</td>\n",
       "      <td>142.000000</td>\n",
       "      <td>4.900000</td>\n",
       "      <td>15.000000</td>\n",
       "      <td>4.000000</td>\n",
       "    </tr>\n",
       "    <tr>\n",
       "      <th>max</th>\n",
       "      <td>399.000000</td>\n",
       "      <td>90.000000</td>\n",
       "      <td>180.000000</td>\n",
       "      <td>1.025000</td>\n",
       "      <td>5.000000</td>\n",
       "      <td>5.000000</td>\n",
       "      <td>490.000000</td>\n",
       "      <td>391.000000</td>\n",
       "      <td>76.000000</td>\n",
       "      <td>163.000000</td>\n",
       "      <td>47.000000</td>\n",
       "      <td>17.800000</td>\n",
       "      <td>5.000000</td>\n",
       "    </tr>\n",
       "  </tbody>\n",
       "</table>\n",
       "</div>"
      ],
      "text/plain": [
       "       Unnamed: 0         age          bp  ...         pot        hemo      stages\n",
       "count  400.000000  400.000000  388.000000  ...  312.000000  348.000000  400.000000\n",
       "mean   199.500000   51.562500   76.469072  ...    4.627244   12.526437    2.777500\n",
       "std    115.614301   16.982996   13.683637  ...    3.193904    2.912587    1.386651\n",
       "min      0.000000    2.000000   50.000000  ...    2.500000    3.100000    1.000000\n",
       "25%     99.750000   42.000000   70.000000  ...    3.800000   10.300000    2.000000\n",
       "50%    199.500000   55.000000   80.000000  ...    4.400000   12.650000    3.000000\n",
       "75%    299.250000   64.000000   80.000000  ...    4.900000   15.000000    4.000000\n",
       "max    399.000000   90.000000  180.000000  ...   47.000000   17.800000    5.000000\n",
       "\n",
       "[8 rows x 13 columns]"
      ]
     },
     "execution_count": 10,
     "metadata": {
      "tags": []
     },
     "output_type": "execute_result"
    }
   ],
   "source": [
    "kidney_data.describe()"
   ]
  },
  {
   "cell_type": "code",
   "execution_count": null,
   "metadata": {
    "colab": {
     "base_uri": "https://localhost:8080/",
     "height": 470
    },
    "id": "1DVkZMsjgOq4",
    "outputId": "860554bc-c407-4f0d-90d1-1d8b80603973"
   },
   "outputs": [
    {
     "data": {
      "text/plain": [
       "Unnamed: 0      0\n",
       "age             0\n",
       "bp             12\n",
       "sg             47\n",
       "al             46\n",
       "su             49\n",
       "rbc           152\n",
       "pc             65\n",
       "pcc             4\n",
       "ba              4\n",
       "bgr            44\n",
       "bu             19\n",
       "sc              0\n",
       "sod            87\n",
       "pot            88\n",
       "hemo           52\n",
       "pcv            70\n",
       "wc            105\n",
       "rc            130\n",
       "htn             2\n",
       "dm              2\n",
       "cad             2\n",
       "appet           1\n",
       "pe              1\n",
       "ane             1\n",
       "stages          0\n",
       "dtype: int64"
      ]
     },
     "execution_count": 11,
     "metadata": {
      "tags": []
     },
     "output_type": "execute_result"
    }
   ],
   "source": [
    "# Count of null values\n",
    "kidney_data.isnull().sum()"
   ]
  },
  {
   "cell_type": "code",
   "execution_count": null,
   "metadata": {
    "id": "DcvuVSdpgRt8"
   },
   "outputs": [],
   "source": [
    "# Extracting null cols\n",
    "null_cols = kidney_data.columns[kidney_data.isnull().any()]"
   ]
  },
  {
   "cell_type": "code",
   "execution_count": null,
   "metadata": {
    "colab": {
     "base_uri": "https://localhost:8080/",
     "height": 84
    },
    "id": "-ru305SGgUu_",
    "outputId": "e41bb0c7-0f2f-4641-d849-627d562e7b11"
   },
   "outputs": [
    {
     "data": {
      "text/plain": [
       "Index(['bp', 'sg', 'al', 'su', 'rbc', 'pc', 'pcc', 'ba', 'bgr', 'bu', 'sod',\n",
       "       'pot', 'hemo', 'pcv', 'wc', 'rc', 'htn', 'dm', 'cad', 'appet', 'pe',\n",
       "       'ane'],\n",
       "      dtype='object')"
      ]
     },
     "execution_count": 13,
     "metadata": {
      "tags": []
     },
     "output_type": "execute_result"
    }
   ],
   "source": [
    "null_cols"
   ]
  },
  {
   "cell_type": "code",
   "execution_count": null,
   "metadata": {
    "id": "ddRT9efhgY0r"
   },
   "outputs": [],
   "source": [
    "# Replacing columns having null values using pad\n",
    "for i in null_cols:\n",
    "    kidney_data[i].fillna(method = 'pad',inplace = True)\n",
    "    kidney_data[i].fillna(method = 'bfill',inplace = True)\n"
   ]
  },
  {
   "cell_type": "code",
   "execution_count": null,
   "metadata": {
    "colab": {
     "base_uri": "https://localhost:8080/",
     "height": 34
    },
    "id": "GmOyfJ11gig9",
    "outputId": "87c81d97-acc6-4da2-d6e6-a1bb0535746b"
   },
   "outputs": [
    {
     "data": {
      "text/plain": [
       "0"
      ]
     },
     "execution_count": 15,
     "metadata": {
      "tags": []
     },
     "output_type": "execute_result"
    }
   ],
   "source": [
    "kidney_data.isna().sum().sum()"
   ]
  },
  {
   "cell_type": "code",
   "execution_count": null,
   "metadata": {
    "colab": {
     "base_uri": "https://localhost:8080/",
     "height": 571
    },
    "id": "9b2O1mbCgmTE",
    "outputId": "f7797bab-b375-404c-eacd-7f6debee41c9"
   },
   "outputs": [
    {
     "name": "stdout",
     "output_type": "stream",
     "text": [
      "<class 'pandas.core.frame.DataFrame'>\n",
      "RangeIndex: 400 entries, 0 to 399\n",
      "Data columns (total 26 columns):\n",
      " #   Column      Non-Null Count  Dtype  \n",
      "---  ------      --------------  -----  \n",
      " 0   Unnamed: 0  400 non-null    int64  \n",
      " 1   age         400 non-null    int64  \n",
      " 2   bp          400 non-null    float64\n",
      " 3   sg          400 non-null    float64\n",
      " 4   al          400 non-null    float64\n",
      " 5   su          400 non-null    float64\n",
      " 6   rbc         400 non-null    object \n",
      " 7   pc          400 non-null    object \n",
      " 8   pcc         400 non-null    object \n",
      " 9   ba          400 non-null    object \n",
      " 10  bgr         400 non-null    float64\n",
      " 11  bu          400 non-null    float64\n",
      " 12  sc          400 non-null    float64\n",
      " 13  sod         400 non-null    float64\n",
      " 14  pot         400 non-null    float64\n",
      " 15  hemo        400 non-null    float64\n",
      " 16  pcv         400 non-null    object \n",
      " 17  wc          400 non-null    object \n",
      " 18  rc          400 non-null    object \n",
      " 19  htn         400 non-null    object \n",
      " 20  dm          400 non-null    object \n",
      " 21  cad         400 non-null    object \n",
      " 22  appet       400 non-null    object \n",
      " 23  pe          400 non-null    object \n",
      " 24  ane         400 non-null    object \n",
      " 25  stages      400 non-null    int64  \n",
      "dtypes: float64(10), int64(3), object(13)\n",
      "memory usage: 81.4+ KB\n"
     ]
    }
   ],
   "source": [
    "kidney_data.info()"
   ]
  },
  {
   "cell_type": "code",
   "execution_count": null,
   "metadata": {
    "id": "QaZlKGUsgo4T"
   },
   "outputs": [],
   "source": [
    "categorical_columns = ['rbc','pc','pcc','ba','pcv','wc','rc','htn','dm','cad','appet','pe','ane']"
   ]
  },
  {
   "cell_type": "code",
   "execution_count": null,
   "metadata": {
    "id": "dUBEJ2Tzgswp"
   },
   "outputs": [],
   "source": [
    "# Encoding Categorical Features\n",
    "\n",
    "from sklearn.preprocessing import LabelEncoder\n",
    "\n",
    "le = LabelEncoder()\n",
    "for i in categorical_columns:\n",
    "    kidney_data[i] = le.fit_transform(kidney_data[i])"
   ]
  },
  {
   "cell_type": "code",
   "execution_count": null,
   "metadata": {
    "colab": {
     "base_uri": "https://localhost:8080/",
     "height": 571
    },
    "id": "TMSvRxyeg8IN",
    "outputId": "c4e470db-1f68-4022-b816-72435bfba3ea"
   },
   "outputs": [
    {
     "name": "stdout",
     "output_type": "stream",
     "text": [
      "<class 'pandas.core.frame.DataFrame'>\n",
      "RangeIndex: 400 entries, 0 to 399\n",
      "Data columns (total 26 columns):\n",
      " #   Column      Non-Null Count  Dtype  \n",
      "---  ------      --------------  -----  \n",
      " 0   Unnamed: 0  400 non-null    int64  \n",
      " 1   age         400 non-null    int64  \n",
      " 2   bp          400 non-null    float64\n",
      " 3   sg          400 non-null    float64\n",
      " 4   al          400 non-null    float64\n",
      " 5   su          400 non-null    float64\n",
      " 6   rbc         400 non-null    int64  \n",
      " 7   pc          400 non-null    int64  \n",
      " 8   pcc         400 non-null    int64  \n",
      " 9   ba          400 non-null    int64  \n",
      " 10  bgr         400 non-null    float64\n",
      " 11  bu          400 non-null    float64\n",
      " 12  sc          400 non-null    float64\n",
      " 13  sod         400 non-null    float64\n",
      " 14  pot         400 non-null    float64\n",
      " 15  hemo        400 non-null    float64\n",
      " 16  pcv         400 non-null    int64  \n",
      " 17  wc          400 non-null    int64  \n",
      " 18  rc          400 non-null    int64  \n",
      " 19  htn         400 non-null    int64  \n",
      " 20  dm          400 non-null    int64  \n",
      " 21  cad         400 non-null    int64  \n",
      " 22  appet       400 non-null    int64  \n",
      " 23  pe          400 non-null    int64  \n",
      " 24  ane         400 non-null    int64  \n",
      " 25  stages      400 non-null    int64  \n",
      "dtypes: float64(10), int64(16)\n",
      "memory usage: 81.4 KB\n"
     ]
    }
   ],
   "source": [
    "kidney_data.info()"
   ]
  },
  {
   "cell_type": "code",
   "execution_count": null,
   "metadata": {
    "colab": {
     "base_uri": "https://localhost:8080/",
     "height": 84
    },
    "id": "4vkZvaJ6g-0j",
    "outputId": "8667bd22-a8ea-482e-92f8-a22344cfa07b"
   },
   "outputs": [
    {
     "data": {
      "text/plain": [
       "Index(['Unnamed: 0', 'age', 'bp', 'sg', 'al', 'su', 'rbc', 'pc', 'pcc', 'ba',\n",
       "       'bgr', 'bu', 'sc', 'sod', 'pot', 'hemo', 'pcv', 'wc', 'rc', 'htn', 'dm',\n",
       "       'cad', 'appet', 'pe', 'ane', 'stages'],\n",
       "      dtype='object')"
      ]
     },
     "execution_count": 20,
     "metadata": {
      "tags": []
     },
     "output_type": "execute_result"
    }
   ],
   "source": [
    "#Normalizing features\n",
    "kidney_data.columns"
   ]
  },
  {
   "cell_type": "code",
   "execution_count": null,
   "metadata": {
    "id": "GCEXtV-NhHxr"
   },
   "outputs": [],
   "source": [
    "from sklearn.preprocessing import StandardScaler\n",
    "\n",
    "normalizer = StandardScaler()\n",
    "# for i in kidney_data.columns:\n",
    "#     kidney_data[i] = pd.DataFrame(i:fit_transform(kidney_data[i]))\n",
    "col = ['age', 'bp', 'sg', 'al', 'su', 'rbc', 'pc', 'pcc', 'ba', 'bgr', 'bu',\n",
    "       'sc', 'sod', 'pot', 'hemo', 'pcv', 'wc', 'rc', 'htn', 'dm', 'cad',\n",
    "       'appet', 'pe', 'ane']\n",
    "\n",
    "kidney_data[col] = normalizer.fit_transform(kidney_data[col].values)"
   ]
  },
  {
   "cell_type": "code",
   "execution_count": null,
   "metadata": {
    "colab": {
     "base_uri": "https://localhost:8080/",
     "height": 232
    },
    "id": "NBeiULdXhNZ8",
    "outputId": "bba15f63-fc24-4a8c-f41e-24dff5afbe7e"
   },
   "outputs": [
    {
     "data": {
      "text/html": [
       "<div>\n",
       "<style scoped>\n",
       "    .dataframe tbody tr th:only-of-type {\n",
       "        vertical-align: middle;\n",
       "    }\n",
       "\n",
       "    .dataframe tbody tr th {\n",
       "        vertical-align: top;\n",
       "    }\n",
       "\n",
       "    .dataframe thead th {\n",
       "        text-align: right;\n",
       "    }\n",
       "</style>\n",
       "<table border=\"1\" class=\"dataframe\">\n",
       "  <thead>\n",
       "    <tr style=\"text-align: right;\">\n",
       "      <th></th>\n",
       "      <th>Unnamed: 0</th>\n",
       "      <th>age</th>\n",
       "      <th>bp</th>\n",
       "      <th>sg</th>\n",
       "      <th>al</th>\n",
       "      <th>su</th>\n",
       "      <th>rbc</th>\n",
       "      <th>pc</th>\n",
       "      <th>pcc</th>\n",
       "      <th>ba</th>\n",
       "      <th>bgr</th>\n",
       "      <th>bu</th>\n",
       "      <th>sc</th>\n",
       "      <th>sod</th>\n",
       "      <th>pot</th>\n",
       "      <th>hemo</th>\n",
       "      <th>pcv</th>\n",
       "      <th>wc</th>\n",
       "      <th>rc</th>\n",
       "      <th>htn</th>\n",
       "      <th>dm</th>\n",
       "      <th>cad</th>\n",
       "      <th>appet</th>\n",
       "      <th>pe</th>\n",
       "      <th>ane</th>\n",
       "      <th>stages</th>\n",
       "    </tr>\n",
       "  </thead>\n",
       "  <tbody>\n",
       "    <tr>\n",
       "      <th>0</th>\n",
       "      <td>0</td>\n",
       "      <td>-0.210031</td>\n",
       "      <td>0.278140</td>\n",
       "      <td>0.489013</td>\n",
       "      <td>-0.042868</td>\n",
       "      <td>-0.415581</td>\n",
       "      <td>0.612022</td>\n",
       "      <td>0.542677</td>\n",
       "      <td>-0.342518</td>\n",
       "      <td>-0.241249</td>\n",
       "      <td>-0.366277</td>\n",
       "      <td>-0.422768</td>\n",
       "      <td>-0.319668</td>\n",
       "      <td>-2.492129</td>\n",
       "      <td>-0.730626</td>\n",
       "      <td>1.049892</td>\n",
       "      <td>0.691518</td>\n",
       "      <td>0.604252</td>\n",
       "      <td>0.734394</td>\n",
       "      <td>1.311903</td>\n",
       "      <td>1.209416</td>\n",
       "      <td>-0.276686</td>\n",
       "      <td>-0.507801</td>\n",
       "      <td>-0.484322</td>\n",
       "      <td>-0.420084</td>\n",
       "      <td>2</td>\n",
       "    </tr>\n",
       "    <tr>\n",
       "      <th>1</th>\n",
       "      <td>1</td>\n",
       "      <td>-2.627234</td>\n",
       "      <td>-1.903350</td>\n",
       "      <td>0.489013</td>\n",
       "      <td>2.193701</td>\n",
       "      <td>-0.415581</td>\n",
       "      <td>0.612022</td>\n",
       "      <td>0.542677</td>\n",
       "      <td>-0.342518</td>\n",
       "      <td>-0.241249</td>\n",
       "      <td>-0.366277</td>\n",
       "      <td>-0.783116</td>\n",
       "      <td>-0.390819</td>\n",
       "      <td>-2.492129</td>\n",
       "      <td>-0.730626</td>\n",
       "      <td>-0.353272</td>\n",
       "      <td>0.049738</td>\n",
       "      <td>0.000660</td>\n",
       "      <td>0.734394</td>\n",
       "      <td>-0.762252</td>\n",
       "      <td>-0.518321</td>\n",
       "      <td>-0.276686</td>\n",
       "      <td>-0.507801</td>\n",
       "      <td>-0.484322</td>\n",
       "      <td>-0.420084</td>\n",
       "      <td>1</td>\n",
       "    </tr>\n",
       "    <tr>\n",
       "      <th>2</th>\n",
       "      <td>2</td>\n",
       "      <td>0.615355</td>\n",
       "      <td>0.278140</td>\n",
       "      <td>-1.257462</td>\n",
       "      <td>0.702655</td>\n",
       "      <td>2.354961</td>\n",
       "      <td>0.612022</td>\n",
       "      <td>0.542677</td>\n",
       "      <td>-0.342518</td>\n",
       "      <td>-0.241249</td>\n",
       "      <td>3.486585</td>\n",
       "      <td>-0.082440</td>\n",
       "      <td>-0.212942</td>\n",
       "      <td>-2.492129</td>\n",
       "      <td>-0.730626</td>\n",
       "      <td>-0.935073</td>\n",
       "      <td>-0.699005</td>\n",
       "      <td>0.528803</td>\n",
       "      <td>0.734394</td>\n",
       "      <td>-0.762252</td>\n",
       "      <td>1.209416</td>\n",
       "      <td>-0.276686</td>\n",
       "      <td>1.969276</td>\n",
       "      <td>-0.484322</td>\n",
       "      <td>2.380476</td>\n",
       "      <td>3</td>\n",
       "    </tr>\n",
       "    <tr>\n",
       "      <th>3</th>\n",
       "      <td>3</td>\n",
       "      <td>-0.210031</td>\n",
       "      <td>-0.449023</td>\n",
       "      <td>-2.130700</td>\n",
       "      <td>2.193701</td>\n",
       "      <td>-0.415581</td>\n",
       "      <td>0.612022</td>\n",
       "      <td>-1.842717</td>\n",
       "      <td>2.919556</td>\n",
       "      <td>-0.241249</td>\n",
       "      <td>-0.417308</td>\n",
       "      <td>-0.022382</td>\n",
       "      <td>0.142813</td>\n",
       "      <td>-2.492129</td>\n",
       "      <td>-0.730626</td>\n",
       "      <td>-0.387496</td>\n",
       "      <td>-0.592042</td>\n",
       "      <td>0.227007</td>\n",
       "      <td>-0.562329</td>\n",
       "      <td>1.311903</td>\n",
       "      <td>-0.518321</td>\n",
       "      <td>-0.276686</td>\n",
       "      <td>1.969276</td>\n",
       "      <td>2.064742</td>\n",
       "      <td>2.380476</td>\n",
       "      <td>4</td>\n",
       "    </tr>\n",
       "    <tr>\n",
       "      <th>4</th>\n",
       "      <td>4</td>\n",
       "      <td>-0.033163</td>\n",
       "      <td>0.278140</td>\n",
       "      <td>-1.257462</td>\n",
       "      <td>0.702655</td>\n",
       "      <td>-0.415581</td>\n",
       "      <td>0.612022</td>\n",
       "      <td>0.542677</td>\n",
       "      <td>-0.342518</td>\n",
       "      <td>-0.241249</td>\n",
       "      <td>-0.557644</td>\n",
       "      <td>-0.622961</td>\n",
       "      <td>-0.284093</td>\n",
       "      <td>-2.492129</td>\n",
       "      <td>-0.730626</td>\n",
       "      <td>-0.250602</td>\n",
       "      <td>-0.271152</td>\n",
       "      <td>0.453354</td>\n",
       "      <td>0.135907</td>\n",
       "      <td>-0.762252</td>\n",
       "      <td>-0.518321</td>\n",
       "      <td>-0.276686</td>\n",
       "      <td>-0.507801</td>\n",
       "      <td>-0.484322</td>\n",
       "      <td>-0.420084</td>\n",
       "      <td>3</td>\n",
       "    </tr>\n",
       "  </tbody>\n",
       "</table>\n",
       "</div>"
      ],
      "text/plain": [
       "   Unnamed: 0       age        bp  ...        pe       ane  stages\n",
       "0           0 -0.210031  0.278140  ... -0.484322 -0.420084       2\n",
       "1           1 -2.627234 -1.903350  ... -0.484322 -0.420084       1\n",
       "2           2  0.615355  0.278140  ... -0.484322  2.380476       3\n",
       "3           3 -0.210031 -0.449023  ...  2.064742  2.380476       4\n",
       "4           4 -0.033163  0.278140  ... -0.484322 -0.420084       3\n",
       "\n",
       "[5 rows x 26 columns]"
      ]
     },
     "execution_count": 22,
     "metadata": {
      "tags": []
     },
     "output_type": "execute_result"
    }
   ],
   "source": [
    "kidney_data.head()"
   ]
  },
  {
   "cell_type": "code",
   "execution_count": null,
   "metadata": {
    "colab": {
     "base_uri": "https://localhost:8080/",
     "height": 84
    },
    "id": "JINWeHTghRmC",
    "outputId": "dc00c257-ddea-4985-e37f-a49c1ae68e03"
   },
   "outputs": [
    {
     "data": {
      "text/plain": [
       "Index(['Unnamed: 0', 'age', 'bp', 'sg', 'al', 'su', 'rbc', 'pc', 'pcc', 'ba',\n",
       "       'bgr', 'bu', 'sc', 'sod', 'pot', 'hemo', 'pcv', 'wc', 'rc', 'htn', 'dm',\n",
       "       'cad', 'appet', 'pe', 'ane', 'stages'],\n",
       "      dtype='object')"
      ]
     },
     "execution_count": 23,
     "metadata": {
      "tags": []
     },
     "output_type": "execute_result"
    }
   ],
   "source": [
    "#Model Building\n",
    "\n",
    "kidney_data.columns"
   ]
  },
  {
   "cell_type": "code",
   "execution_count": null,
   "metadata": {
    "id": "frQuzi0EhXPU"
   },
   "outputs": [],
   "source": [
    "x = kidney_data[['age', 'bp', 'sg', 'al', 'su', 'rbc', 'pc', 'pcc', 'ba', 'bgr', 'bu',\n",
    "       'sc', 'sod', 'pot', 'hemo', 'pcv', 'wc', 'rc', 'htn', 'dm', 'cad',\n",
    "       'appet', 'pe', 'ane']]\n",
    "y = kidney_data['stages']"
   ]
  },
  {
   "cell_type": "code",
   "execution_count": null,
   "metadata": {
    "colab": {
     "base_uri": "https://localhost:8080/",
     "height": 50
    },
    "id": "0cZUXxF5hafp",
    "outputId": "58ccd90e-c165-4180-cf0e-5f59817a91e5"
   },
   "outputs": [
    {
     "name": "stdout",
     "output_type": "stream",
     "text": [
      "400\n",
      "400\n"
     ]
    }
   ],
   "source": [
    "print(len(x))\n",
    "print(len(y))"
   ]
  },
  {
   "cell_type": "code",
   "execution_count": null,
   "metadata": {
    "id": "zibBXJSgheB0"
   },
   "outputs": [],
   "source": [
    "# Splitting data\n",
    "from sklearn.model_selection import train_test_split\n",
    "\n",
    "x_train,x_test,y_train,y_test = train_test_split(x,y,test_size = 0.2, random_state = 0)"
   ]
  },
  {
   "cell_type": "code",
   "execution_count": null,
   "metadata": {
    "colab": {
     "base_uri": "https://localhost:8080/",
     "height": 84
    },
    "id": "FgES6q-xhhLh",
    "outputId": "16287e5d-f2ec-43d8-ddcb-d4af499a0a67"
   },
   "outputs": [
    {
     "name": "stdout",
     "output_type": "stream",
     "text": [
      "320\n",
      "80\n",
      "320\n",
      "80\n"
     ]
    }
   ],
   "source": [
    "print(len(x_train))\n",
    "print(len(x_test))\n",
    "print(len(y_train))\n",
    "print(len(y_test))"
   ]
  },
  {
   "cell_type": "code",
   "execution_count": null,
   "metadata": {
    "colab": {
     "base_uri": "https://localhost:8080/",
     "height": 118
    },
    "id": "MmmeDVlmhj_G",
    "outputId": "7bae4a56-9d95-4d4f-fde7-83ad73ee1116"
   },
   "outputs": [
    {
     "data": {
      "text/plain": [
       "2    93\n",
       "1    93\n",
       "3    90\n",
       "5    66\n",
       "4    58\n",
       "Name: stages, dtype: int64"
      ]
     },
     "execution_count": 28,
     "metadata": {
      "tags": []
     },
     "output_type": "execute_result"
    }
   ],
   "source": [
    "y.value_counts()"
   ]
  },
  {
   "cell_type": "code",
   "execution_count": null,
   "metadata": {
    "id": "_DRbrf2Yhmv6"
   },
   "outputs": [],
   "source": [
    "from sklearn.metrics import accuracy_score\n",
    "from sklearn.metrics import confusion_matrix"
   ]
  },
  {
   "cell_type": "code",
   "execution_count": null,
   "metadata": {
    "colab": {
     "base_uri": "https://localhost:8080/",
     "height": 134
    },
    "id": "PfdCLfGJho_-",
    "outputId": "d3b76c2b-7ebf-4e72-bf71-663caf025a4f"
   },
   "outputs": [
    {
     "name": "stdout",
     "output_type": "stream",
     "text": [
      "Accuracy score: 0.6625\n",
      "Confusion Matrix :\n",
      "[[ 8  6  1  0  0]\n",
      " [ 5 12  2  0  0]\n",
      " [ 2  2  8  1  0]\n",
      " [ 0  0  6 10  1]\n",
      " [ 0  1  0  0 15]]\n"
     ]
    }
   ],
   "source": [
    "classifier = SVC(gamma = 0.01,C=100)\n",
    "classifier.fit(x_train,y_train)\n",
    "y_pred = classifier.predict(x_test)\n",
    "print(\"Accuracy score:\",accuracy_score(y_test,y_pred))\n",
    "print(\"Confusion Matrix :\")\n",
    "print(confusion_matrix(y_test,y_pred))"
   ]
  },
  {
   "cell_type": "code",
   "execution_count": null,
   "metadata": {
    "colab": {
     "base_uri": "https://localhost:8080/",
     "height": 84
    },
    "id": "46ps0ePahrmn",
    "outputId": "2fa3162b-30aa-4eba-879d-67ab01cc425b"
   },
   "outputs": [
    {
     "data": {
      "text/plain": [
       "SVC(C=1.0, break_ties=False, cache_size=200, class_weight=None, coef0=0.0,\n",
       "    decision_function_shape='ovr', degree=3, gamma='scale', kernel='rbf',\n",
       "    max_iter=-1, probability=False, random_state=None, shrinking=True,\n",
       "    tol=0.001, verbose=False)"
      ]
     },
     "execution_count": 31,
     "metadata": {
      "tags": []
     },
     "output_type": "execute_result"
    }
   ],
   "source": [
    "SVC()"
   ]
  },
  {
   "cell_type": "code",
   "execution_count": null,
   "metadata": {
    "colab": {
     "base_uri": "https://localhost:8080/",
     "height": 67
    },
    "id": "H0hRmjUVhuNh",
    "outputId": "2d564a51-932d-47b7-f64e-a67543b43c07"
   },
   "outputs": [
    {
     "name": "stdout",
     "output_type": "stream",
     "text": [
      "[5 2 2 5 5 4 1 2 5 3 4 5 3 2 4 5 2 3 4 3 2 1 4 2 4 1 4 5 2 1 3 2 2 4 1 5 4\n",
      " 2 3 2 1 1 5 1 2 4 3 2 3 3 2 3 3 3 1 2 2 3 3 5 5 2 3 1 5 1 5 3 5 2 2 1 3 5\n",
      " 4 5 1 1 1 2]\n"
     ]
    }
   ],
   "source": [
    "print(y_pred)"
   ]
  },
  {
   "cell_type": "code",
   "execution_count": null,
   "metadata": {
    "colab": {
     "base_uri": "https://localhost:8080/",
     "height": 134
    },
    "id": "bD9JtViYhwzQ",
    "outputId": "ad40c690-00cb-4d60-a60d-d357d9b85bbe"
   },
   "outputs": [
    {
     "name": "stdout",
     "output_type": "stream",
     "text": [
      "Accuracy score: 0.7875\n",
      "Confusion Matrix :\n",
      "[[13  2  0  0  0]\n",
      " [ 2 17  0  0  0]\n",
      " [ 0  3  9  0  1]\n",
      " [ 0  2  3 10  2]\n",
      " [ 0  0  1  1 14]]\n"
     ]
    }
   ],
   "source": [
    "classifier = SVC(gamma = 0.01,C=100,kernel='linear')\n",
    "classifier.fit(x_train,y_train)\n",
    "y_pred = classifier.predict(x_test)\n",
    "print(\"Accuracy score:\",accuracy_score(y_test,y_pred))\n",
    "print(\"Confusion Matrix :\")\n",
    "print(confusion_matrix(y_test,y_pred))"
   ]
  },
  {
   "cell_type": "code",
   "execution_count": null,
   "metadata": {
    "id": "i06bvzBRhz4J"
   },
   "outputs": [],
   "source": []
  }
 ],
 "metadata": {
  "colab": {
   "name": "Untitled6.ipynb",
   "provenance": []
  },
  "kernelspec": {
   "display_name": "Python 3",
   "language": "python",
   "name": "python3"
  },
  "language_info": {
   "codemirror_mode": {
    "name": "ipython",
    "version": 3
   },
   "file_extension": ".py",
   "mimetype": "text/x-python",
   "name": "python",
   "nbconvert_exporter": "python",
   "pygments_lexer": "ipython3",
   "version": "3.7.6"
  }
 },
 "nbformat": 4,
 "nbformat_minor": 1
}
